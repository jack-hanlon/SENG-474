{
 "cells": [
  {
   "cell_type": "code",
   "execution_count": 1,
   "metadata": {},
   "outputs": [],
   "source": [
    "import numpy as np\n",
    "import matplotlib.pyplot as plt\n",
    "from pathlib import Path\n",
    "import os\n",
    "import warnings"
   ]
  },
  {
   "cell_type": "code",
   "execution_count": null,
   "metadata": {},
   "outputs": [],
   "source": []
  },
  {
   "cell_type": "code",
   "execution_count": 2,
   "metadata": {},
   "outputs": [],
   "source": [
    "#Find the path to the files \n",
    "fashion_mnist = Path(\"C:\\\\Users\\\\jackl\\\\Desktop\\\\fashion-mnist\\\\utils\")"
   ]
  },
  {
   "cell_type": "code",
   "execution_count": 3,
   "metadata": {},
   "outputs": [
    {
     "name": "stdout",
     "output_type": "stream",
     "text": [
      "Starting Test: \n"
     ]
    },
    {
     "name": "stderr",
     "output_type": "stream",
     "text": [
      "C:\\Users\\jackl\\Anaconda3\\lib\\site-packages\\sklearn\\linear_model\\logistic.py:432: FutureWarning: Default solver will be changed to 'lbfgs' in 0.22. Specify a solver to silence this warning.\n",
      "  FutureWarning)\n"
     ]
    },
    {
     "name": "stdout",
     "output_type": "stream",
     "text": [
      "0.9515\n"
     ]
    },
    {
     "name": "stderr",
     "output_type": "stream",
     "text": [
      "C:\\Users\\jackl\\Anaconda3\\lib\\site-packages\\sklearn\\linear_model\\logistic.py:432: FutureWarning: Default solver will be changed to 'lbfgs' in 0.22. Specify a solver to silence this warning.\n",
      "  FutureWarning)\n"
     ]
    },
    {
     "name": "stdout",
     "output_type": "stream",
     "text": [
      "0.953\n"
     ]
    },
    {
     "name": "stderr",
     "output_type": "stream",
     "text": [
      "C:\\Users\\jackl\\Anaconda3\\lib\\site-packages\\sklearn\\linear_model\\logistic.py:432: FutureWarning: Default solver will be changed to 'lbfgs' in 0.22. Specify a solver to silence this warning.\n",
      "  FutureWarning)\n"
     ]
    },
    {
     "name": "stdout",
     "output_type": "stream",
     "text": [
      "0.953\n"
     ]
    },
    {
     "name": "stderr",
     "output_type": "stream",
     "text": [
      "C:\\Users\\jackl\\Anaconda3\\lib\\site-packages\\sklearn\\linear_model\\logistic.py:432: FutureWarning: Default solver will be changed to 'lbfgs' in 0.22. Specify a solver to silence this warning.\n",
      "  FutureWarning)\n"
     ]
    },
    {
     "name": "stdout",
     "output_type": "stream",
     "text": [
      "0.957\n"
     ]
    },
    {
     "name": "stderr",
     "output_type": "stream",
     "text": [
      "C:\\Users\\jackl\\Anaconda3\\lib\\site-packages\\sklearn\\linear_model\\logistic.py:432: FutureWarning: Default solver will be changed to 'lbfgs' in 0.22. Specify a solver to silence this warning.\n",
      "  FutureWarning)\n"
     ]
    },
    {
     "name": "stdout",
     "output_type": "stream",
     "text": [
      "0.9575\n"
     ]
    },
    {
     "name": "stderr",
     "output_type": "stream",
     "text": [
      "C:\\Users\\jackl\\Anaconda3\\lib\\site-packages\\sklearn\\linear_model\\logistic.py:432: FutureWarning: Default solver will be changed to 'lbfgs' in 0.22. Specify a solver to silence this warning.\n",
      "  FutureWarning)\n"
     ]
    },
    {
     "name": "stdout",
     "output_type": "stream",
     "text": [
      "0.962\n"
     ]
    },
    {
     "name": "stderr",
     "output_type": "stream",
     "text": [
      "C:\\Users\\jackl\\Anaconda3\\lib\\site-packages\\sklearn\\linear_model\\logistic.py:432: FutureWarning: Default solver will be changed to 'lbfgs' in 0.22. Specify a solver to silence this warning.\n",
      "  FutureWarning)\n"
     ]
    },
    {
     "name": "stdout",
     "output_type": "stream",
     "text": [
      "0.961\n"
     ]
    },
    {
     "name": "stderr",
     "output_type": "stream",
     "text": [
      "C:\\Users\\jackl\\Anaconda3\\lib\\site-packages\\sklearn\\linear_model\\logistic.py:432: FutureWarning: Default solver will be changed to 'lbfgs' in 0.22. Specify a solver to silence this warning.\n",
      "  FutureWarning)\n"
     ]
    },
    {
     "name": "stdout",
     "output_type": "stream",
     "text": [
      "0.961\n"
     ]
    },
    {
     "name": "stderr",
     "output_type": "stream",
     "text": [
      "C:\\Users\\jackl\\Anaconda3\\lib\\site-packages\\sklearn\\linear_model\\logistic.py:432: FutureWarning: Default solver will be changed to 'lbfgs' in 0.22. Specify a solver to silence this warning.\n",
      "  FutureWarning)\n"
     ]
    },
    {
     "name": "stdout",
     "output_type": "stream",
     "text": [
      "0.9555\n"
     ]
    },
    {
     "name": "stderr",
     "output_type": "stream",
     "text": [
      "C:\\Users\\jackl\\Anaconda3\\lib\\site-packages\\sklearn\\linear_model\\logistic.py:432: FutureWarning: Default solver will be changed to 'lbfgs' in 0.22. Specify a solver to silence this warning.\n",
      "  FutureWarning)\n"
     ]
    },
    {
     "name": "stdout",
     "output_type": "stream",
     "text": [
      "0.946\n",
      "Comparing to Train:\n"
     ]
    },
    {
     "name": "stderr",
     "output_type": "stream",
     "text": [
      "C:\\Users\\jackl\\Anaconda3\\lib\\site-packages\\sklearn\\linear_model\\logistic.py:432: FutureWarning: Default solver will be changed to 'lbfgs' in 0.22. Specify a solver to silence this warning.\n",
      "  FutureWarning)\n"
     ]
    },
    {
     "name": "stdout",
     "output_type": "stream",
     "text": [
      "0.9770833333333333\n"
     ]
    },
    {
     "name": "stderr",
     "output_type": "stream",
     "text": [
      "C:\\Users\\jackl\\Anaconda3\\lib\\site-packages\\sklearn\\linear_model\\logistic.py:432: FutureWarning: Default solver will be changed to 'lbfgs' in 0.22. Specify a solver to silence this warning.\n",
      "  FutureWarning)\n"
     ]
    },
    {
     "name": "stdout",
     "output_type": "stream",
     "text": [
      "0.97625\n"
     ]
    },
    {
     "name": "stderr",
     "output_type": "stream",
     "text": [
      "C:\\Users\\jackl\\Anaconda3\\lib\\site-packages\\sklearn\\linear_model\\logistic.py:432: FutureWarning: Default solver will be changed to 'lbfgs' in 0.22. Specify a solver to silence this warning.\n",
      "  FutureWarning)\n"
     ]
    },
    {
     "name": "stdout",
     "output_type": "stream",
     "text": [
      "0.9750833333333333\n"
     ]
    },
    {
     "name": "stderr",
     "output_type": "stream",
     "text": [
      "C:\\Users\\jackl\\Anaconda3\\lib\\site-packages\\sklearn\\linear_model\\logistic.py:432: FutureWarning: Default solver will be changed to 'lbfgs' in 0.22. Specify a solver to silence this warning.\n",
      "  FutureWarning)\n"
     ]
    },
    {
     "name": "stdout",
     "output_type": "stream",
     "text": [
      "0.9746666666666667\n"
     ]
    },
    {
     "name": "stderr",
     "output_type": "stream",
     "text": [
      "C:\\Users\\jackl\\Anaconda3\\lib\\site-packages\\sklearn\\linear_model\\logistic.py:432: FutureWarning: Default solver will be changed to 'lbfgs' in 0.22. Specify a solver to silence this warning.\n",
      "  FutureWarning)\n"
     ]
    },
    {
     "name": "stdout",
     "output_type": "stream",
     "text": [
      "0.9735\n"
     ]
    },
    {
     "name": "stderr",
     "output_type": "stream",
     "text": [
      "C:\\Users\\jackl\\Anaconda3\\lib\\site-packages\\sklearn\\linear_model\\logistic.py:432: FutureWarning: Default solver will be changed to 'lbfgs' in 0.22. Specify a solver to silence this warning.\n",
      "  FutureWarning)\n"
     ]
    },
    {
     "name": "stdout",
     "output_type": "stream",
     "text": [
      "0.97125\n"
     ]
    },
    {
     "name": "stderr",
     "output_type": "stream",
     "text": [
      "C:\\Users\\jackl\\Anaconda3\\lib\\site-packages\\sklearn\\linear_model\\logistic.py:432: FutureWarning: Default solver will be changed to 'lbfgs' in 0.22. Specify a solver to silence this warning.\n",
      "  FutureWarning)\n"
     ]
    },
    {
     "name": "stdout",
     "output_type": "stream",
     "text": [
      "0.9684166666666667\n"
     ]
    },
    {
     "name": "stderr",
     "output_type": "stream",
     "text": [
      "C:\\Users\\jackl\\Anaconda3\\lib\\site-packages\\sklearn\\linear_model\\logistic.py:432: FutureWarning: Default solver will be changed to 'lbfgs' in 0.22. Specify a solver to silence this warning.\n",
      "  FutureWarning)\n"
     ]
    },
    {
     "name": "stdout",
     "output_type": "stream",
     "text": [
      "0.9659166666666666\n"
     ]
    },
    {
     "name": "stderr",
     "output_type": "stream",
     "text": [
      "C:\\Users\\jackl\\Anaconda3\\lib\\site-packages\\sklearn\\linear_model\\logistic.py:432: FutureWarning: Default solver will be changed to 'lbfgs' in 0.22. Specify a solver to silence this warning.\n",
      "  FutureWarning)\n"
     ]
    },
    {
     "name": "stdout",
     "output_type": "stream",
     "text": [
      "0.9601666666666666\n"
     ]
    },
    {
     "name": "stderr",
     "output_type": "stream",
     "text": [
      "C:\\Users\\jackl\\Anaconda3\\lib\\site-packages\\sklearn\\linear_model\\logistic.py:432: FutureWarning: Default solver will be changed to 'lbfgs' in 0.22. Specify a solver to silence this warning.\n",
      "  FutureWarning)\n"
     ]
    },
    {
     "name": "stdout",
     "output_type": "stream",
     "text": [
      "0.9521666666666667\n"
     ]
    }
   ],
   "source": [
    "# import Logistic Regression\n",
    "from sklearn.linear_model import LogisticRegression\n",
    "from sklearn.metrics import accuracy_score \n",
    "# Change directory to fashion mnist\n",
    "os.chdir(fashion_mnist)\n",
    "import mnist_reader\n",
    "#Load the fashion mnist data\n",
    "X_train, y_train = mnist_reader.load_mnist('../data/fashion', kind='train')\n",
    "X_test, y_test = mnist_reader.load_mnist('../data/fashion', kind='t10k')\n",
    "\n",
    "# Global Arrays & Temp Arrays\n",
    "#######################################\n",
    "# tmp variables used to filter for results that are sandals and sneakers\n",
    "index_of_x_train_5 = []\n",
    "index_of_x_train_7 = []\n",
    "index_x_test_5 = []\n",
    "index_x_test_7 = []\n",
    "# Sandals and sneakers img data\n",
    "X_train_5_7 = []\n",
    "X_test_5_7 = []\n",
    "# Training pre-processing\n",
    "#######################################\n",
    "# Sandals and sneakers outputs (Converted to 0 and 1)\n",
    "y_train_5_7 = []\n",
    "# creating the y_train_5_7 list\n",
    "for z in range(0,12000):\n",
    "    if(z < 6000):\n",
    "        y_train_5_7.append(0)\n",
    "    else:\n",
    "        y_train_5_7.append(1)\n",
    "\n",
    "\n",
    "for i in range(0,len(y_train)):\n",
    "    if(y_train[i] == 5):\n",
    "        index_of_x_train_5.append(i)\n",
    "        \n",
    "for i in range(0,len(y_train)):\n",
    "    if(y_train[i] == 7):\n",
    "        index_of_x_train_7.append(i)\n",
    "        \n",
    "        \n",
    "for j in range(0,6000):\n",
    "    X_train_5_7.append(X_train[index_of_x_train_5[j]])\n",
    "for k in range(0,6000):\n",
    "    X_train_5_7.append(X_train[index_of_x_train_7[k]])\n",
    "    \n",
    "\n",
    "X_train_5_7 = np.array(X_train_5_7)\n",
    "X_train_5_7 = X_train_5_7.astype(np.float)\n",
    "for i in range(0,len(X_train_5_7)):\n",
    "    for j in range(0,784):\n",
    "        X_train_5_7[i][j] = X_train_5_7[i][j] / 255\n",
    "#print(X_train_5_7[0])\n",
    "y_train_5_7 = np.array(y_train_5_7)\n",
    "y_train_5_7 = y_train_5_7.astype(np.float)\n",
    "# Test pre - processing \n",
    "#########################################\n",
    "y_test_5_7 = []\n",
    "\n",
    "for z in range(0,2000):\n",
    "    if (z < 1000):\n",
    "        y_test_5_7.append(0)\n",
    "    else:\n",
    "        y_test_5_7.append(1)\n",
    "\n",
    "for i in range(0,len(y_test)):\n",
    "    if(y_test[i] == 5):\n",
    "        index_x_test_5.append(i)\n",
    "for i in range(0,len(y_test)):\n",
    "    if(y_test[i] == 7):\n",
    "        index_x_test_7.append(i)\n",
    "\n",
    "for j in range(0,1000):\n",
    "    X_test_5_7.append(X_test[index_x_test_5[j]])\n",
    "for j in range(0,1000):\n",
    "    X_test_5_7.append(X_test[index_x_test_7[j]])\n",
    "    \n",
    "X_test_5_7 = np.array(X_test_5_7)\n",
    "X_test_5_7 = X_test_5_7.astype(np.float)\n",
    "for i in range(0,len(X_test_5_7)):\n",
    "    for j in range(0,784):\n",
    "        X_test_5_7[i][j] = X_test_5_7[i][j] / 255\n",
    "        \n",
    "\n",
    "y_test_5_7 = np.array(y_test_5_7)\n",
    "y_test_5_7 = y_test_5_7.astype(np.float)\n",
    "\n",
    "# Logistic Regression\n",
    "#########################################\n",
    "with warnings.catch_warnings():\n",
    "    warnings.filterwarnings(\"ignore\")\n",
    "\n",
    "\n",
    "c_values_test = [16,8,4,2,1,0.5,0.1,0.2,0.04,0.008]\n",
    "accuracies_test = [0,0,0,0,0,0,0,0,0,0]\n",
    "\n",
    "c_values_train = [16,8,4,2,1,0.5,0.2,0.1,0.04,0.008]\n",
    "accuracies_train = [0,0,0,0,0,0,0,0,0,0]\n",
    "print(\"Starting Test: \")\n",
    "#Predicting on test - Test Error\n",
    "for i in range(0,len(c_values_test)):\n",
    "    model = LogisticRegression(C=c_values_test[i],penalty = \"l2\")\n",
    "    model.fit(X_train_5_7, y_train_5_7)\n",
    "    predicted_classes = model.predict(X_test_5_7)\n",
    "    accuracy = accuracy_score(y_test_5_7.flatten(),predicted_classes)\n",
    "    parameters = model.coef_\n",
    "    accuracies_test[i] = accuracy\n",
    "    print(accuracy)\n",
    "print(\"Comparing to Train:\")\n",
    "#Predicting on training - Train Error\n",
    "for i in range(0,len(c_values_train)):\n",
    "    model = LogisticRegression(C=c_values_train[i],penalty=\"l2\")\n",
    "    model.fit(X_train_5_7, y_train_5_7)\n",
    "    predicted_classes = model.predict(X_train_5_7)\n",
    "    accuracy = accuracy_score(y_train_5_7.flatten(),predicted_classes)\n",
    "    parameters = model.coef_\n",
    "    accuracies_train[i] = accuracy\n",
    "    print(accuracy)"
   ]
  },
  {
   "cell_type": "code",
   "execution_count": 4,
   "metadata": {},
   "outputs": [
    {
     "data": {
      "text/plain": [
       "[<matplotlib.lines.Line2D at 0x18313b01a08>]"
      ]
     },
     "execution_count": 4,
     "metadata": {},
     "output_type": "execute_result"
    },
    {
     "data": {
      "image/png": "[encoded data removed]",
      "text/plain": [
       "<Figure size 432x288 with 1 Axes>"
      ]
     },
     "metadata": {
      "needs_background": "light"
     },
     "output_type": "display_data"
    }
   ],
   "source": [
    "plt.title(\"Test Error\")\n",
    "plt.xlabel(\"C values\")\n",
    "plt.ylabel(\"Accuracy\")\n",
    "plt.plot(c_values_test,accuracies_test)\n",
    "\n"
   ]
  },
  {
   "cell_type": "code",
   "execution_count": 5,
   "metadata": {},
   "outputs": [
    {
     "data": {
      "text/plain": [
       "[<matplotlib.lines.Line2D at 0x1831f95e388>]"
      ]
     },
     "execution_count": 5,
     "metadata": {},
     "output_type": "execute_result"
    },
    {
     "data": {
      "image/png": "[encoded data removed]",
      "text/plain": [
       "<Figure size 432x288 with 1 Axes>"
      ]
     },
     "metadata": {
      "needs_background": "light"
     },
     "output_type": "display_data"
    }
   ],
   "source": [
    "plt.title(\"Training Error\")\n",
    "plt.xlabel(\"C Values\")\n",
    "plt.ylabel(\"Accuracy\")\n",
    "plt.plot(c_values_train,accuracies_train)"
   ]
  },
  {
   "cell_type": "code",
   "execution_count": null,
   "metadata": {},
   "outputs": [
    {
     "name": "stdout",
     "output_type": "stream",
     "text": [
      "Starting on Test: \n",
      "0.94\n",
      "0.949\n",
      "0.948\n",
      "0.952\n",
      "0.954\n",
      "0.961\n",
      "0.96\n",
      "0.959\n",
      "0.963\n",
      "0.96\n",
      "0.958\n",
      "0.959\n",
      "0.95\n",
      "0.929\n",
      "Comparing to Train: \n",
      "0.9896666666666667\n",
      "0.988\n",
      "0.9858333333333333\n",
      "0.984\n",
      "0.982\n",
      "0.9793333333333333\n",
      "0.978\n",
      "0.974\n",
      "0.9708333333333333\n"
     ]
    }
   ],
   "source": [
    "from sklearn import svm\n",
    "\n",
    "X_train_SVM = []\n",
    "y_train_SVM = []\n",
    "for i in range (0,6000):\n",
    "    if(i >= 3000):\n",
    "        X_train_SVM.append(X_train_5_7[i+3000])\n",
    "        y_train_SVM.append(1)\n",
    "    else:\n",
    "        X_train_SVM.append(X_train_5_7[i])\n",
    "        y_train_SVM.append(0)\n",
    "X_test_SVM = []\n",
    "y_test_SVM = []\n",
    "for i in range(0,1000):\n",
    "    if(i >= 500):\n",
    "        X_test_SVM.append(X_test_5_7[i+500])\n",
    "        y_test_SVM.append(1)\n",
    "    else:\n",
    "        X_test_SVM.append(X_test_5_7[i])\n",
    "        y_test_SVM.append(0)\n",
    "        \n",
    "    \n",
    "        \n",
    "X_train_SVM = np.array(X_train_SVM)\n",
    "y_train_SVM = np.array(y_train_SVM)\n",
    "X_test_SVM = np.array(X_test_SVM)\n",
    "y_test_SVM = np.array(y_test_SVM)\n",
    "\n",
    "#SVM Linear and Gaussian \n",
    "c_vals = [32,16,8,4,2,1,0.5,0.2,0.1,0.05,0.04,0.03,0.008,0.0016]\n",
    "acc_test = [0,0,0,0,0,0,0,0,0,0,0,0,0,0]\n",
    "acc_train = [0,0,0,0,0,0,0,0,0,0,0,0,0,0]\n",
    "print(\"Starting on Test: \")\n",
    "for i in range(0,14):\n",
    "    linear_svc = svm.SVC(kernel='linear', C = c_vals[i])\n",
    "    clf = linear_svc\n",
    "    clf.fit(X_train_SVM,y_train_SVM)\n",
    "    predicted = clf.predict(X_test_SVM)\n",
    "    accuracy = accuracy_score(y_test_SVM.flatten(),predicted)\n",
    "    #print(predicted)\n",
    "    print(accuracy)\n",
    "    acc_test[i] = accuracy\n",
    "print(\"Comparing to Train: \")\n",
    "for i in range(0,14):\n",
    "    linear_svc = svm.SVC(kernel='linear', C = c_vals[i])\n",
    "    clf = linear_svc\n",
    "    clf.fit(X_train_SVM,y_train_SVM)\n",
    "    predicted = clf.predict(X_train_SVM)\n",
    "    accuracy = accuracy_score(y_train_SVM.flatten(),predicted)\n",
    "    #print(predicted)\n",
    "    print(accuracy)\n",
    "    acc_train[i] = accuracy\n"
   ]
  },
  {
   "cell_type": "code",
   "execution_count": null,
   "metadata": {},
   "outputs": [],
   "source": [
    "plt.title(\"Test Error\")\n",
    "plt.xlabel(\"C values\")\n",
    "plt.ylabel(\"Accuracy\")\n",
    "plt.plot(c_vals,acc_test)"
   ]
  },
  {
   "cell_type": "code",
   "execution_count": null,
   "metadata": {},
   "outputs": [],
   "source": [
    "plt.title(\"Training Error\")\n",
    "plt.xlabel(\"C values\")\n",
    "plt.ylabel(\"Accuracy\")\n",
    "plt.plot(c_vals,acc_train)"
   ]
  },
  {
   "cell_type": "code",
   "execution_count": null,
   "metadata": {},
   "outputs": [],
   "source": [
    "from random import seed\n",
    "from random import randrange\n",
    " \n",
    "# Split a dataset into k folds\n",
    "def cross_validation_split(dataset, folds):\n",
    "    dataset_split = list()\n",
    "    dataset_copy = list(dataset)\n",
    "    fold_size = int(len(dataset) / folds)\n",
    "    for i in range(folds):\n",
    "        fold = list()\n",
    "        while len(fold) < fold_size:\n",
    "            index = randrange(len(dataset_copy))\n",
    "            fold.append(dataset_copy.pop(index))\n",
    "        dataset_split.append(fold)\n",
    "    return dataset_split\n",
    " \n",
    "# test cross validation split\n",
    "seed(1)\n",
    "dataset = X_train_5_7\n",
    "folds = cross_validation_split(dataset, 6)\n",
    "print(folds[0])"
   ]
  },
  {
   "cell_type": "code",
   "execution_count": null,
   "metadata": {},
   "outputs": [],
   "source": []
  }
 ],
 "metadata": {
  "kernelspec": {
   "display_name": "Python 3",
   "language": "python",
   "name": "python3"
  },
  "language_info": {
   "codemirror_mode": {
    "name": "ipython",
    "version": 3
   },
   "file_extension": ".py",
   "mimetype": "text/x-python",
   "name": "python",
   "nbconvert_exporter": "python",
   "pygments_lexer": "ipython3",
   "version": "3.7.4"
  }
 },
 "nbformat": 4,
 "nbformat_minor": 2
}
